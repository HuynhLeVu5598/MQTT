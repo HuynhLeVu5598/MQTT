{
  "nbformat": 4,
  "nbformat_minor": 0,
  "metadata": {
    "colab": {
      "name": "2.ipynb",
      "provenance": [],
      "collapsed_sections": [],
      "authorship_tag": "ABX9TyNPYwIVhGsQkVJPBGsD0Wt9",
      "include_colab_link": true
    },
    "kernelspec": {
      "name": "python3",
      "display_name": "Python 3"
    },
    "language_info": {
      "name": "python"
    }
  },
  "cells": [
    {
      "cell_type": "markdown",
      "metadata": {
        "id": "view-in-github",
        "colab_type": "text"
      },
      "source": [
        "<a href=\"https://colab.research.google.com/github/HuynhLeVu5598/MQTT/blob/master/2.ipynb\" target=\"_parent\"><img src=\"https://colab.research.google.com/assets/colab-badge.svg\" alt=\"Open In Colab\"/></a>"
      ]
    },
    {
      "cell_type": "markdown",
      "metadata": {
        "id": "w5Bz4YpLlmVm"
      },
      "source": [
        "Bậc 1"
      ]
    },
    {
      "cell_type": "code",
      "metadata": {
        "colab": {
          "base_uri": "https://localhost:8080/",
          "height": 283
        },
        "id": "9-wRfcRDNfDb",
        "outputId": "8931b8f3-7ffd-4340-d1e6-c6774c083a42"
      },
      "source": [
        "# fit a straight line to the economic data\n",
        "from numpy import arange\n",
        "from pandas import read_csv\n",
        "from scipy.optimize import curve_fit\n",
        "from matplotlib import pyplot\n",
        "\n",
        "# define the true objective function\n",
        "def objective(x, a, b):\n",
        "\treturn a * x + b\n",
        "\n",
        "# load the dataset\n",
        "url = 'a.csv'\n",
        "dataframe = read_csv(url, header=None)\n",
        "data = dataframe.values\n",
        "# choose the input and output variables\n",
        "x, y = data[:, 0], data[:, 1]\n",
        "# curve fit\n",
        "popt, _ = curve_fit(objective, x, y)\n",
        "# summarize the parameter values\n",
        "a, b = popt\n",
        "print('%.5f * x + %.5f' % (a, b))\n",
        "# plot input vs output\n",
        "pyplot.scatter(x, y)\n",
        "# define a sequence of inputs between the smallest and largest known inputs\n",
        "x_line = arange(min(x), max(x), 0.01)\n",
        "# calculate the output for the range\n",
        "y_line = objective(x_line, a, b)\n",
        "# create a line plot for the mapping function\n",
        "pyplot.plot(x_line, y_line, '--', color='red')\n",
        "pyplot.show()"
      ],
      "execution_count": 43,
      "outputs": [
        {
          "output_type": "stream",
          "text": [
            "0.99960 * x + -0.01868\n"
          ],
          "name": "stdout"
        },
        {
          "output_type": "display_data",
          "data": {
            "image/png": "[encoded data removed]",
            "text/plain": [
              "<Figure size 432x288 with 1 Axes>"
            ]
          },
          "metadata": {
            "tags": [],
            "needs_background": "light"
          }
        }
      ]
    },
    {
      "cell_type": "markdown",
      "metadata": {
        "id": "dCsfcUkNlt6N"
      },
      "source": [
        "Bậc 2"
      ]
    },
    {
      "cell_type": "code",
      "metadata": {
        "colab": {
          "base_uri": "https://localhost:8080/",
          "height": 283
        },
        "id": "QDwBMEwzgqDz",
        "outputId": "35a2220a-bcc8-4032-f76f-29cfe90bd150"
      },
      "source": [
        "# fit a second degree polynomial to the economic data\n",
        "from numpy import arange\n",
        "from pandas import read_csv\n",
        "from scipy.optimize import curve_fit\n",
        "from matplotlib import pyplot\n",
        "\n",
        "# define the true objective function\n",
        "def objective(x, a, b, c):\n",
        "\treturn a * x**2 + b * x + c\n",
        "\n",
        "# load the dataset\n",
        "url = 'a.csv'\n",
        "dataframe = read_csv(url, header=None)\n",
        "data = dataframe.values\n",
        "# choose the input and output variables\n",
        "x, y = data[:, 0], data[:, 1]\n",
        "# curve fit\n",
        "popt, _ = curve_fit(objective, x, y)\n",
        "# summarize the parameter values\n",
        "a, b, c = popt\n",
        "print('y = %.5f * x**2 + %.5f * x + %.5f' % (a, b, c))\n",
        "# plot input vs output\n",
        "pyplot.scatter(x, y)\n",
        "# define a sequence of inputs between the smallest and largest known inputs\n",
        "x_line = arange(min(x), max(x),0.01)\n",
        "# calculate the output for the range\n",
        "y_line = objective(x_line, a, b, c)\n",
        "# create a line plot for the mapping function\n",
        "pyplot.plot(x_line, y_line, '--', color='red')\n",
        "pyplot.show()"
      ],
      "execution_count": 42,
      "outputs": [
        {
          "output_type": "stream",
          "text": [
            "y = 0.07871 * x**2 + 0.94330 * x + -0.00987\n"
          ],
          "name": "stdout"
        },
        {
          "output_type": "display_data",
          "data": {
            "image/png": "[encoded data removed]",
            "text/plain": [
              "<Figure size 432x288 with 1 Axes>"
            ]
          },
          "metadata": {
            "tags": [],
            "needs_background": "light"
          }
        }
      ]
    },
    {
      "cell_type": "markdown",
      "metadata": {
        "id": "0hEJAdtQnSRk"
      },
      "source": [
        "Bậc 3\n"
      ]
    },
    {
      "cell_type": "code",
      "metadata": {
        "colab": {
          "base_uri": "https://localhost:8080/",
          "height": 283
        },
        "id": "ViAhQhdCnVHJ",
        "outputId": "9f68556d-788c-4833-96c4-e9044d6e1ae6"
      },
      "source": [
        "# fit a second degree polynomial to the economic data\n",
        "from numpy import arange\n",
        "from pandas import read_csv\n",
        "from scipy.optimize import curve_fit\n",
        "from matplotlib import pyplot\n",
        "\n",
        "# define the true objective function\n",
        "def objective(x, a, b, c, d):\n",
        "\treturn a * x**3 + b * x**2 + c * x + d\n",
        "\n",
        "# load the dataset\n",
        "url = 'a.csv'\n",
        "dataframe = read_csv(url, header=None)\n",
        "data = dataframe.values\n",
        "# choose the input and output variables\n",
        "x, y = data[:, 0], data[:, 1]\n",
        "# curve fit\n",
        "popt, _ = curve_fit(objective, x, y)\n",
        "# summarize the parameter values\n",
        "a, b, c, d = popt\n",
        "print('y = %.5f * x**3 + %.5f * x**2 + %.5f * x + %.5f' % (a, b, c, d))\n",
        "# plot input vs output\n",
        "pyplot.scatter(x, y)\n",
        "# define a sequence of inputs between the smallest and largest known inputs\n",
        "x_line = arange(min(x), max(x),0.01)\n",
        "# calculate the output for the range\n",
        "y_line = objective(x_line, a, b, c, d)\n",
        "# create a line plot for the mapping function\n",
        "pyplot.plot(x_line, y_line, '--', color='red')\n",
        "pyplot.show()"
      ],
      "execution_count": 41,
      "outputs": [
        {
          "output_type": "stream",
          "text": [
            "y = -7.50559 * x**3 + 8.10559 * x**2 + -1.70590 * x + 0.26066\n"
          ],
          "name": "stdout"
        },
        {
          "output_type": "display_data",
          "data": {
            "image/png": "[encoded data removed]",
            "text/plain": [
              "<Figure size 432x288 with 1 Axes>"
            ]
          },
          "metadata": {
            "tags": [],
            "needs_background": "light"
          }
        }
      ]
    },
    {
      "cell_type": "markdown",
      "metadata": {
        "id": "I-S-BOwVmBX-"
      },
      "source": [
        "Bậc 4\n"
      ]
    },
    {
      "cell_type": "code",
      "metadata": {
        "colab": {
          "base_uri": "https://localhost:8080/",
          "height": 283
        },
        "id": "gtuhJtIUmDPG",
        "outputId": "6f2b07b6-0b0c-4269-fcf5-57a0a8746a89"
      },
      "source": [
        "# fit a second degree polynomial to the economic data\n",
        "from numpy import arange\n",
        "from pandas import read_csv\n",
        "from scipy.optimize import curve_fit\n",
        "from matplotlib import pyplot\n",
        "\n",
        "# define the true objective function\n",
        "def objective(x, a, b, c, d, e):\n",
        "\treturn a * x**4 + b * x**3 + c*x**2 + d*x +e\n",
        "\n",
        "# load the dataset\n",
        "url = 'a.csv'\n",
        "dataframe = read_csv(url, header=None)\n",
        "data = dataframe.values\n",
        "# choose the input and output variables\n",
        "x, y = data[:, 0], data[:, 1]\n",
        "# curve fit\n",
        "popt, _ = curve_fit(objective, x, y)\n",
        "# summarize the parameter values\n",
        "a, b, c, d, e = popt\n",
        "print('y = %.5f * x**4 + %.5f * x**3 + %.5f * x**2 + %.5f * x + %.5f' % (a, b, c, d, e))\n",
        "# plot input vs output\n",
        "pyplot.scatter(x, y)\n",
        "# define a sequence of inputs between the smallest and largest known inputs\n",
        "x_line = arange(min(x), max(x),0.01)\n",
        "# calculate the output for the range\n",
        "y_line = objective(x_line, a, b, c, d, e)\n",
        "# create a line plot for the mapping function\n",
        "pyplot.plot(x_line, y_line, '--', color='red')\n",
        "pyplot.show()"
      ],
      "execution_count": 46,
      "outputs": [
        {
          "output_type": "stream",
          "text": [
            "y = -292.50992 * x**4 + 404.05740 * x**3 + -198.54134 * x**2 + 42.11905 * x + -3.05262\n"
          ],
          "name": "stdout"
        },
        {
          "output_type": "display_data",
          "data": {
            "image/png": "[encoded data removed]",
            "text/plain": [
              "<Figure size 432x288 with 1 Axes>"
            ]
          },
          "metadata": {
            "tags": [],
            "needs_background": "light"
          }
        }
      ]
    }
  ]
}